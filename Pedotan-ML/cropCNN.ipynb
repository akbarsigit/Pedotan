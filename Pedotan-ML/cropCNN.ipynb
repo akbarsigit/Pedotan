{
  "nbformat": 4,
  "nbformat_minor": 0,
  "metadata": {
    "colab": {
      "provenance": []
    },
    "kernelspec": {
      "name": "python3",
      "display_name": "Python 3"
    },
    "language_info": {
      "name": "python"
    }
  },
  "cells": [
    {
      "cell_type": "code",
      "execution_count": 1,
      "metadata": {
        "colab": {
          "base_uri": "https://localhost:8080/",
          "height": 73
        },
        "id": "17C8OJW-0qSX",
        "outputId": "4ef716ed-de1d-4497-b6e9-bcbe017b70d8"
      },
      "outputs": [
        {
          "output_type": "display_data",
          "data": {
            "text/plain": [
              "<IPython.core.display.HTML object>"
            ],
            "text/html": [
              "\n",
              "     <input type=\"file\" id=\"files-e09c179e-59ca-4d44-9d8b-d50475ea8db8\" name=\"files[]\" multiple disabled\n",
              "        style=\"border:none\" />\n",
              "     <output id=\"result-e09c179e-59ca-4d44-9d8b-d50475ea8db8\">\n",
              "      Upload widget is only available when the cell has been executed in the\n",
              "      current browser session. Please rerun this cell to enable.\n",
              "      </output>\n",
              "      <script>// Copyright 2017 Google LLC\n",
              "//\n",
              "// Licensed under the Apache License, Version 2.0 (the \"License\");\n",
              "// you may not use this file except in compliance with the License.\n",
              "// You may obtain a copy of the License at\n",
              "//\n",
              "//      http://www.apache.org/licenses/LICENSE-2.0\n",
              "//\n",
              "// Unless required by applicable law or agreed to in writing, software\n",
              "// distributed under the License is distributed on an \"AS IS\" BASIS,\n",
              "// WITHOUT WARRANTIES OR CONDITIONS OF ANY KIND, either express or implied.\n",
              "// See the License for the specific language governing permissions and\n",
              "// limitations under the License.\n",
              "\n",
              "/**\n",
              " * @fileoverview Helpers for google.colab Python module.\n",
              " */\n",
              "(function(scope) {\n",
              "function span(text, styleAttributes = {}) {\n",
              "  const element = document.createElement('span');\n",
              "  element.textContent = text;\n",
              "  for (const key of Object.keys(styleAttributes)) {\n",
              "    element.style[key] = styleAttributes[key];\n",
              "  }\n",
              "  return element;\n",
              "}\n",
              "\n",
              "// Max number of bytes which will be uploaded at a time.\n",
              "const MAX_PAYLOAD_SIZE = 100 * 1024;\n",
              "\n",
              "function _uploadFiles(inputId, outputId) {\n",
              "  const steps = uploadFilesStep(inputId, outputId);\n",
              "  const outputElement = document.getElementById(outputId);\n",
              "  // Cache steps on the outputElement to make it available for the next call\n",
              "  // to uploadFilesContinue from Python.\n",
              "  outputElement.steps = steps;\n",
              "\n",
              "  return _uploadFilesContinue(outputId);\n",
              "}\n",
              "\n",
              "// This is roughly an async generator (not supported in the browser yet),\n",
              "// where there are multiple asynchronous steps and the Python side is going\n",
              "// to poll for completion of each step.\n",
              "// This uses a Promise to block the python side on completion of each step,\n",
              "// then passes the result of the previous step as the input to the next step.\n",
              "function _uploadFilesContinue(outputId) {\n",
              "  const outputElement = document.getElementById(outputId);\n",
              "  const steps = outputElement.steps;\n",
              "\n",
              "  const next = steps.next(outputElement.lastPromiseValue);\n",
              "  return Promise.resolve(next.value.promise).then((value) => {\n",
              "    // Cache the last promise value to make it available to the next\n",
              "    // step of the generator.\n",
              "    outputElement.lastPromiseValue = value;\n",
              "    return next.value.response;\n",
              "  });\n",
              "}\n",
              "\n",
              "/**\n",
              " * Generator function which is called between each async step of the upload\n",
              " * process.\n",
              " * @param {string} inputId Element ID of the input file picker element.\n",
              " * @param {string} outputId Element ID of the output display.\n",
              " * @return {!Iterable<!Object>} Iterable of next steps.\n",
              " */\n",
              "function* uploadFilesStep(inputId, outputId) {\n",
              "  const inputElement = document.getElementById(inputId);\n",
              "  inputElement.disabled = false;\n",
              "\n",
              "  const outputElement = document.getElementById(outputId);\n",
              "  outputElement.innerHTML = '';\n",
              "\n",
              "  const pickedPromise = new Promise((resolve) => {\n",
              "    inputElement.addEventListener('change', (e) => {\n",
              "      resolve(e.target.files);\n",
              "    });\n",
              "  });\n",
              "\n",
              "  const cancel = document.createElement('button');\n",
              "  inputElement.parentElement.appendChild(cancel);\n",
              "  cancel.textContent = 'Cancel upload';\n",
              "  const cancelPromise = new Promise((resolve) => {\n",
              "    cancel.onclick = () => {\n",
              "      resolve(null);\n",
              "    };\n",
              "  });\n",
              "\n",
              "  // Wait for the user to pick the files.\n",
              "  const files = yield {\n",
              "    promise: Promise.race([pickedPromise, cancelPromise]),\n",
              "    response: {\n",
              "      action: 'starting',\n",
              "    }\n",
              "  };\n",
              "\n",
              "  cancel.remove();\n",
              "\n",
              "  // Disable the input element since further picks are not allowed.\n",
              "  inputElement.disabled = true;\n",
              "\n",
              "  if (!files) {\n",
              "    return {\n",
              "      response: {\n",
              "        action: 'complete',\n",
              "      }\n",
              "    };\n",
              "  }\n",
              "\n",
              "  for (const file of files) {\n",
              "    const li = document.createElement('li');\n",
              "    li.append(span(file.name, {fontWeight: 'bold'}));\n",
              "    li.append(span(\n",
              "        `(${file.type || 'n/a'}) - ${file.size} bytes, ` +\n",
              "        `last modified: ${\n",
              "            file.lastModifiedDate ? file.lastModifiedDate.toLocaleDateString() :\n",
              "                                    'n/a'} - `));\n",
              "    const percent = span('0% done');\n",
              "    li.appendChild(percent);\n",
              "\n",
              "    outputElement.appendChild(li);\n",
              "\n",
              "    const fileDataPromise = new Promise((resolve) => {\n",
              "      const reader = new FileReader();\n",
              "      reader.onload = (e) => {\n",
              "        resolve(e.target.result);\n",
              "      };\n",
              "      reader.readAsArrayBuffer(file);\n",
              "    });\n",
              "    // Wait for the data to be ready.\n",
              "    let fileData = yield {\n",
              "      promise: fileDataPromise,\n",
              "      response: {\n",
              "        action: 'continue',\n",
              "      }\n",
              "    };\n",
              "\n",
              "    // Use a chunked sending to avoid message size limits. See b/62115660.\n",
              "    let position = 0;\n",
              "    do {\n",
              "      const length = Math.min(fileData.byteLength - position, MAX_PAYLOAD_SIZE);\n",
              "      const chunk = new Uint8Array(fileData, position, length);\n",
              "      position += length;\n",
              "\n",
              "      const base64 = btoa(String.fromCharCode.apply(null, chunk));\n",
              "      yield {\n",
              "        response: {\n",
              "          action: 'append',\n",
              "          file: file.name,\n",
              "          data: base64,\n",
              "        },\n",
              "      };\n",
              "\n",
              "      let percentDone = fileData.byteLength === 0 ?\n",
              "          100 :\n",
              "          Math.round((position / fileData.byteLength) * 100);\n",
              "      percent.textContent = `${percentDone}% done`;\n",
              "\n",
              "    } while (position < fileData.byteLength);\n",
              "  }\n",
              "\n",
              "  // All done.\n",
              "  yield {\n",
              "    response: {\n",
              "      action: 'complete',\n",
              "    }\n",
              "  };\n",
              "}\n",
              "\n",
              "scope.google = scope.google || {};\n",
              "scope.google.colab = scope.google.colab || {};\n",
              "scope.google.colab._files = {\n",
              "  _uploadFiles,\n",
              "  _uploadFilesContinue,\n",
              "};\n",
              "})(self);\n",
              "</script> "
            ]
          },
          "metadata": {}
        },
        {
          "output_type": "stream",
          "name": "stdout",
          "text": [
            "Saving kaggle.json to kaggle.json\n"
          ]
        }
      ],
      "source": [
        "# Upload file kaggle.json\n",
        "from google.colab import files\n",
        "uploaded = files.upload()"
      ]
    },
    {
      "cell_type": "code",
      "source": [
        "! pip install kaggle"
      ],
      "metadata": {
        "colab": {
          "base_uri": "https://localhost:8080/"
        },
        "id": "TuIUhkdh0zZp",
        "outputId": "75d4332b-14a8-44e6-fb33-c0a9e5f814e2"
      },
      "execution_count": 2,
      "outputs": [
        {
          "output_type": "stream",
          "name": "stdout",
          "text": [
            "Looking in indexes: https://pypi.org/simple, https://us-python.pkg.dev/colab-wheels/public/simple/\n",
            "Requirement already satisfied: kaggle in /usr/local/lib/python3.10/dist-packages (1.5.13)\n",
            "Requirement already satisfied: six>=1.10 in /usr/local/lib/python3.10/dist-packages (from kaggle) (1.16.0)\n",
            "Requirement already satisfied: certifi in /usr/local/lib/python3.10/dist-packages (from kaggle) (2022.12.7)\n",
            "Requirement already satisfied: python-dateutil in /usr/local/lib/python3.10/dist-packages (from kaggle) (2.8.2)\n",
            "Requirement already satisfied: requests in /usr/local/lib/python3.10/dist-packages (from kaggle) (2.27.1)\n",
            "Requirement already satisfied: tqdm in /usr/local/lib/python3.10/dist-packages (from kaggle) (4.65.0)\n",
            "Requirement already satisfied: python-slugify in /usr/local/lib/python3.10/dist-packages (from kaggle) (8.0.1)\n",
            "Requirement already satisfied: urllib3 in /usr/local/lib/python3.10/dist-packages (from kaggle) (1.26.15)\n",
            "Requirement already satisfied: text-unidecode>=1.3 in /usr/local/lib/python3.10/dist-packages (from python-slugify->kaggle) (1.3)\n",
            "Requirement already satisfied: charset-normalizer~=2.0.0 in /usr/local/lib/python3.10/dist-packages (from requests->kaggle) (2.0.12)\n",
            "Requirement already satisfied: idna<4,>=2.5 in /usr/local/lib/python3.10/dist-packages (from requests->kaggle) (3.4)\n"
          ]
        }
      ]
    },
    {
      "cell_type": "code",
      "source": [
        "! mkdir ~/.kaggle"
      ],
      "metadata": {
        "id": "34KfIp3j5nVJ"
      },
      "execution_count": 3,
      "outputs": []
    },
    {
      "cell_type": "code",
      "source": [
        "! cp kaggle.json ~/.kaggle/"
      ],
      "metadata": {
        "id": "95lohAgx5os8"
      },
      "execution_count": 4,
      "outputs": []
    },
    {
      "cell_type": "code",
      "source": [
        "! chmod 600 ~/.kaggle/kaggle.json"
      ],
      "metadata": {
        "id": "sfpq9c555sZp"
      },
      "execution_count": 5,
      "outputs": []
    },
    {
      "cell_type": "code",
      "source": [
        "# Mengambil dataset kaggle \n",
        "! kaggle datasets download siddharthss/crop-recommendation-dataset"
      ],
      "metadata": {
        "colab": {
          "base_uri": "https://localhost:8080/"
        },
        "id": "T4ybrJs_5uIq",
        "outputId": "c6803ea9-e595-4cd8-f949-8d7edfacbf82"
      },
      "execution_count": 6,
      "outputs": [
        {
          "output_type": "stream",
          "name": "stdout",
          "text": [
            "Downloading crop-recommendation-dataset.zip to /content\n",
            "\r  0% 0.00/63.7k [00:00<?, ?B/s]\n",
            "\r100% 63.7k/63.7k [00:00<00:00, 52.6MB/s]\n"
          ]
        }
      ]
    },
    {
      "cell_type": "code",
      "source": [
        "! unzip crop-recommendation-dataset.zip"
      ],
      "metadata": {
        "colab": {
          "base_uri": "https://localhost:8080/"
        },
        "id": "c55Kt0UY8nb9",
        "outputId": "23954fb2-facc-4175-e323-6b4f1574748f"
      },
      "execution_count": 7,
      "outputs": [
        {
          "output_type": "stream",
          "name": "stdout",
          "text": [
            "Archive:  crop-recommendation-dataset.zip\n",
            "  inflating: Crop_recommendation.csv  \n"
          ]
        }
      ]
    },
    {
      "cell_type": "code",
      "source": [
        "import numpy as np # linear algebra\n",
        "import pandas as pd # data processing, CSV file I/O (e.g. pd.read_csv)\n",
        "import seaborn as sns\n",
        "from matplotlib import pyplot as plt\n",
        "%matplotlib inline\n",
        "\n",
        "import tensorflow as tf\n",
        "\n",
        "from sklearn.model_selection import train_test_split\n",
        "from sklearn.preprocessing import LabelEncoder\n",
        "from sklearn.preprocessing import StandardScaler"
      ],
      "metadata": {
        "id": "GPPfbFfB8VT6"
      },
      "execution_count": 8,
      "outputs": []
    },
    {
      "cell_type": "code",
      "source": [
        "df_crop=pd.read_csv('/content/Crop_recommendation.csv')\n",
        "df_crop.head()"
      ],
      "metadata": {
        "colab": {
          "base_uri": "https://localhost:8080/",
          "height": 206
        },
        "id": "nQbd0C2XYw_V",
        "outputId": "403f5f3d-3c0c-4916-9678-39d3bfb829d3"
      },
      "execution_count": 9,
      "outputs": [
        {
          "output_type": "execute_result",
          "data": {
            "text/plain": [
              "    N   P   K  temperature   humidity        ph    rainfall label\n",
              "0  90  42  43    20.879744  82.002744  6.502985  202.935536  rice\n",
              "1  85  58  41    21.770462  80.319644  7.038096  226.655537  rice\n",
              "2  60  55  44    23.004459  82.320763  7.840207  263.964248  rice\n",
              "3  74  35  40    26.491096  80.158363  6.980401  242.864034  rice\n",
              "4  78  42  42    20.130175  81.604873  7.628473  262.717340  rice"
            ],
            "text/html": [
              "\n",
              "  <div id=\"df-58632ebc-7d49-49de-9f36-ea0745f3c1b0\">\n",
              "    <div class=\"colab-df-container\">\n",
              "      <div>\n",
              "<style scoped>\n",
              "    .dataframe tbody tr th:only-of-type {\n",
              "        vertical-align: middle;\n",
              "    }\n",
              "\n",
              "    .dataframe tbody tr th {\n",
              "        vertical-align: top;\n",
              "    }\n",
              "\n",
              "    .dataframe thead th {\n",
              "        text-align: right;\n",
              "    }\n",
              "</style>\n",
              "<table border=\"1\" class=\"dataframe\">\n",
              "  <thead>\n",
              "    <tr style=\"text-align: right;\">\n",
              "      <th></th>\n",
              "      <th>N</th>\n",
              "      <th>P</th>\n",
              "      <th>K</th>\n",
              "      <th>temperature</th>\n",
              "      <th>humidity</th>\n",
              "      <th>ph</th>\n",
              "      <th>rainfall</th>\n",
              "      <th>label</th>\n",
              "    </tr>\n",
              "  </thead>\n",
              "  <tbody>\n",
              "    <tr>\n",
              "      <th>0</th>\n",
              "      <td>90</td>\n",
              "      <td>42</td>\n",
              "      <td>43</td>\n",
              "      <td>20.879744</td>\n",
              "      <td>82.002744</td>\n",
              "      <td>6.502985</td>\n",
              "      <td>202.935536</td>\n",
              "      <td>rice</td>\n",
              "    </tr>\n",
              "    <tr>\n",
              "      <th>1</th>\n",
              "      <td>85</td>\n",
              "      <td>58</td>\n",
              "      <td>41</td>\n",
              "      <td>21.770462</td>\n",
              "      <td>80.319644</td>\n",
              "      <td>7.038096</td>\n",
              "      <td>226.655537</td>\n",
              "      <td>rice</td>\n",
              "    </tr>\n",
              "    <tr>\n",
              "      <th>2</th>\n",
              "      <td>60</td>\n",
              "      <td>55</td>\n",
              "      <td>44</td>\n",
              "      <td>23.004459</td>\n",
              "      <td>82.320763</td>\n",
              "      <td>7.840207</td>\n",
              "      <td>263.964248</td>\n",
              "      <td>rice</td>\n",
              "    </tr>\n",
              "    <tr>\n",
              "      <th>3</th>\n",
              "      <td>74</td>\n",
              "      <td>35</td>\n",
              "      <td>40</td>\n",
              "      <td>26.491096</td>\n",
              "      <td>80.158363</td>\n",
              "      <td>6.980401</td>\n",
              "      <td>242.864034</td>\n",
              "      <td>rice</td>\n",
              "    </tr>\n",
              "    <tr>\n",
              "      <th>4</th>\n",
              "      <td>78</td>\n",
              "      <td>42</td>\n",
              "      <td>42</td>\n",
              "      <td>20.130175</td>\n",
              "      <td>81.604873</td>\n",
              "      <td>7.628473</td>\n",
              "      <td>262.717340</td>\n",
              "      <td>rice</td>\n",
              "    </tr>\n",
              "  </tbody>\n",
              "</table>\n",
              "</div>\n",
              "      <button class=\"colab-df-convert\" onclick=\"convertToInteractive('df-58632ebc-7d49-49de-9f36-ea0745f3c1b0')\"\n",
              "              title=\"Convert this dataframe to an interactive table.\"\n",
              "              style=\"display:none;\">\n",
              "        \n",
              "  <svg xmlns=\"http://www.w3.org/2000/svg\" height=\"24px\"viewBox=\"0 0 24 24\"\n",
              "       width=\"24px\">\n",
              "    <path d=\"M0 0h24v24H0V0z\" fill=\"none\"/>\n",
              "    <path d=\"M18.56 5.44l.94 2.06.94-2.06 2.06-.94-2.06-.94-.94-2.06-.94 2.06-2.06.94zm-11 1L8.5 8.5l.94-2.06 2.06-.94-2.06-.94L8.5 2.5l-.94 2.06-2.06.94zm10 10l.94 2.06.94-2.06 2.06-.94-2.06-.94-.94-2.06-.94 2.06-2.06.94z\"/><path d=\"M17.41 7.96l-1.37-1.37c-.4-.4-.92-.59-1.43-.59-.52 0-1.04.2-1.43.59L10.3 9.45l-7.72 7.72c-.78.78-.78 2.05 0 2.83L4 21.41c.39.39.9.59 1.41.59.51 0 1.02-.2 1.41-.59l7.78-7.78 2.81-2.81c.8-.78.8-2.07 0-2.86zM5.41 20L4 18.59l7.72-7.72 1.47 1.35L5.41 20z\"/>\n",
              "  </svg>\n",
              "      </button>\n",
              "      \n",
              "  <style>\n",
              "    .colab-df-container {\n",
              "      display:flex;\n",
              "      flex-wrap:wrap;\n",
              "      gap: 12px;\n",
              "    }\n",
              "\n",
              "    .colab-df-convert {\n",
              "      background-color: #E8F0FE;\n",
              "      border: none;\n",
              "      border-radius: 50%;\n",
              "      cursor: pointer;\n",
              "      display: none;\n",
              "      fill: #1967D2;\n",
              "      height: 32px;\n",
              "      padding: 0 0 0 0;\n",
              "      width: 32px;\n",
              "    }\n",
              "\n",
              "    .colab-df-convert:hover {\n",
              "      background-color: #E2EBFA;\n",
              "      box-shadow: 0px 1px 2px rgba(60, 64, 67, 0.3), 0px 1px 3px 1px rgba(60, 64, 67, 0.15);\n",
              "      fill: #174EA6;\n",
              "    }\n",
              "\n",
              "    [theme=dark] .colab-df-convert {\n",
              "      background-color: #3B4455;\n",
              "      fill: #D2E3FC;\n",
              "    }\n",
              "\n",
              "    [theme=dark] .colab-df-convert:hover {\n",
              "      background-color: #434B5C;\n",
              "      box-shadow: 0px 1px 3px 1px rgba(0, 0, 0, 0.15);\n",
              "      filter: drop-shadow(0px 1px 2px rgba(0, 0, 0, 0.3));\n",
              "      fill: #FFFFFF;\n",
              "    }\n",
              "  </style>\n",
              "\n",
              "      <script>\n",
              "        const buttonEl =\n",
              "          document.querySelector('#df-58632ebc-7d49-49de-9f36-ea0745f3c1b0 button.colab-df-convert');\n",
              "        buttonEl.style.display =\n",
              "          google.colab.kernel.accessAllowed ? 'block' : 'none';\n",
              "\n",
              "        async function convertToInteractive(key) {\n",
              "          const element = document.querySelector('#df-58632ebc-7d49-49de-9f36-ea0745f3c1b0');\n",
              "          const dataTable =\n",
              "            await google.colab.kernel.invokeFunction('convertToInteractive',\n",
              "                                                     [key], {});\n",
              "          if (!dataTable) return;\n",
              "\n",
              "          const docLinkHtml = 'Like what you see? Visit the ' +\n",
              "            '<a target=\"_blank\" href=https://colab.research.google.com/notebooks/data_table.ipynb>data table notebook</a>'\n",
              "            + ' to learn more about interactive tables.';\n",
              "          element.innerHTML = '';\n",
              "          dataTable['output_type'] = 'display_data';\n",
              "          await google.colab.output.renderOutput(dataTable, element);\n",
              "          const docLink = document.createElement('div');\n",
              "          docLink.innerHTML = docLinkHtml;\n",
              "          element.appendChild(docLink);\n",
              "        }\n",
              "      </script>\n",
              "    </div>\n",
              "  </div>\n",
              "  "
            ]
          },
          "metadata": {},
          "execution_count": 9
        }
      ]
    },
    {
      "cell_type": "code",
      "source": [
        "df_crop.isna().sum()\n"
      ],
      "metadata": {
        "colab": {
          "base_uri": "https://localhost:8080/"
        },
        "id": "A7MDQYwCY2eE",
        "outputId": "7deff437-d748-4adf-ca07-ac6f2b557e57"
      },
      "execution_count": 10,
      "outputs": [
        {
          "output_type": "execute_result",
          "data": {
            "text/plain": [
              "N              0\n",
              "P              0\n",
              "K              0\n",
              "temperature    0\n",
              "humidity       0\n",
              "ph             0\n",
              "rainfall       0\n",
              "label          0\n",
              "dtype: int64"
            ]
          },
          "metadata": {},
          "execution_count": 10
        }
      ]
    },
    {
      "cell_type": "code",
      "source": [
        "df_crop['label'].unique()"
      ],
      "metadata": {
        "colab": {
          "base_uri": "https://localhost:8080/"
        },
        "id": "SXJ12O7KY3-Q",
        "outputId": "0049106c-5e31-481d-93bf-3baaa21483aa"
      },
      "execution_count": 11,
      "outputs": [
        {
          "output_type": "execute_result",
          "data": {
            "text/plain": [
              "array(['rice', 'maize', 'chickpea', 'kidneybeans', 'pigeonpeas',\n",
              "       'mothbeans', 'mungbean', 'blackgram', 'lentil', 'pomegranate',\n",
              "       'banana', 'mango', 'grapes', 'watermelon', 'muskmelon', 'apple',\n",
              "       'orange', 'papaya', 'coconut', 'cotton', 'jute', 'coffee'],\n",
              "      dtype=object)"
            ]
          },
          "metadata": {},
          "execution_count": 11
        }
      ]
    },
    {
      "cell_type": "code",
      "source": [
        "keep_row = ['rice', 'maize', 'grapes', 'apple', 'coffee']"
      ],
      "metadata": {
        "id": "P3Gb3A5pY5-C"
      },
      "execution_count": 12,
      "outputs": []
    },
    {
      "cell_type": "code",
      "source": [
        "df_crop = df_crop[df_crop['label'].isin(keep_row)]#.reset_index(drop=True)\n",
        "df_crop"
      ],
      "metadata": {
        "colab": {
          "base_uri": "https://localhost:8080/",
          "height": 423
        },
        "id": "-ACC5x1IZES9",
        "outputId": "15744d0f-ef31-457b-fb86-26144d96474f"
      },
      "execution_count": 13,
      "outputs": [
        {
          "output_type": "execute_result",
          "data": {
            "text/plain": [
              "        N   P   K  temperature   humidity        ph    rainfall   label\n",
              "0      90  42  43    20.879744  82.002744  6.502985  202.935536    rice\n",
              "1      85  58  41    21.770462  80.319644  7.038096  226.655537    rice\n",
              "2      60  55  44    23.004459  82.320763  7.840207  263.964248    rice\n",
              "3      74  35  40    26.491096  80.158363  6.980401  242.864034    rice\n",
              "4      78  42  42    20.130175  81.604873  7.628473  262.717340    rice\n",
              "...   ...  ..  ..          ...        ...       ...         ...     ...\n",
              "2195  107  34  32    26.774637  66.413269  6.780064  177.774507  coffee\n",
              "2196   99  15  27    27.417112  56.636362  6.086922  127.924610  coffee\n",
              "2197  118  33  30    24.131797  67.225123  6.362608  173.322839  coffee\n",
              "2198  117  32  34    26.272418  52.127394  6.758793  127.175293  coffee\n",
              "2199  104  18  30    23.603016  60.396475  6.779833  140.937041  coffee\n",
              "\n",
              "[500 rows x 8 columns]"
            ],
            "text/html": [
              "\n",
              "  <div id=\"df-ced1d8f5-04ef-4a62-89ef-8ef2b131a2b9\">\n",
              "    <div class=\"colab-df-container\">\n",
              "      <div>\n",
              "<style scoped>\n",
              "    .dataframe tbody tr th:only-of-type {\n",
              "        vertical-align: middle;\n",
              "    }\n",
              "\n",
              "    .dataframe tbody tr th {\n",
              "        vertical-align: top;\n",
              "    }\n",
              "\n",
              "    .dataframe thead th {\n",
              "        text-align: right;\n",
              "    }\n",
              "</style>\n",
              "<table border=\"1\" class=\"dataframe\">\n",
              "  <thead>\n",
              "    <tr style=\"text-align: right;\">\n",
              "      <th></th>\n",
              "      <th>N</th>\n",
              "      <th>P</th>\n",
              "      <th>K</th>\n",
              "      <th>temperature</th>\n",
              "      <th>humidity</th>\n",
              "      <th>ph</th>\n",
              "      <th>rainfall</th>\n",
              "      <th>label</th>\n",
              "    </tr>\n",
              "  </thead>\n",
              "  <tbody>\n",
              "    <tr>\n",
              "      <th>0</th>\n",
              "      <td>90</td>\n",
              "      <td>42</td>\n",
              "      <td>43</td>\n",
              "      <td>20.879744</td>\n",
              "      <td>82.002744</td>\n",
              "      <td>6.502985</td>\n",
              "      <td>202.935536</td>\n",
              "      <td>rice</td>\n",
              "    </tr>\n",
              "    <tr>\n",
              "      <th>1</th>\n",
              "      <td>85</td>\n",
              "      <td>58</td>\n",
              "      <td>41</td>\n",
              "      <td>21.770462</td>\n",
              "      <td>80.319644</td>\n",
              "      <td>7.038096</td>\n",
              "      <td>226.655537</td>\n",
              "      <td>rice</td>\n",
              "    </tr>\n",
              "    <tr>\n",
              "      <th>2</th>\n",
              "      <td>60</td>\n",
              "      <td>55</td>\n",
              "      <td>44</td>\n",
              "      <td>23.004459</td>\n",
              "      <td>82.320763</td>\n",
              "      <td>7.840207</td>\n",
              "      <td>263.964248</td>\n",
              "      <td>rice</td>\n",
              "    </tr>\n",
              "    <tr>\n",
              "      <th>3</th>\n",
              "      <td>74</td>\n",
              "      <td>35</td>\n",
              "      <td>40</td>\n",
              "      <td>26.491096</td>\n",
              "      <td>80.158363</td>\n",
              "      <td>6.980401</td>\n",
              "      <td>242.864034</td>\n",
              "      <td>rice</td>\n",
              "    </tr>\n",
              "    <tr>\n",
              "      <th>4</th>\n",
              "      <td>78</td>\n",
              "      <td>42</td>\n",
              "      <td>42</td>\n",
              "      <td>20.130175</td>\n",
              "      <td>81.604873</td>\n",
              "      <td>7.628473</td>\n",
              "      <td>262.717340</td>\n",
              "      <td>rice</td>\n",
              "    </tr>\n",
              "    <tr>\n",
              "      <th>...</th>\n",
              "      <td>...</td>\n",
              "      <td>...</td>\n",
              "      <td>...</td>\n",
              "      <td>...</td>\n",
              "      <td>...</td>\n",
              "      <td>...</td>\n",
              "      <td>...</td>\n",
              "      <td>...</td>\n",
              "    </tr>\n",
              "    <tr>\n",
              "      <th>2195</th>\n",
              "      <td>107</td>\n",
              "      <td>34</td>\n",
              "      <td>32</td>\n",
              "      <td>26.774637</td>\n",
              "      <td>66.413269</td>\n",
              "      <td>6.780064</td>\n",
              "      <td>177.774507</td>\n",
              "      <td>coffee</td>\n",
              "    </tr>\n",
              "    <tr>\n",
              "      <th>2196</th>\n",
              "      <td>99</td>\n",
              "      <td>15</td>\n",
              "      <td>27</td>\n",
              "      <td>27.417112</td>\n",
              "      <td>56.636362</td>\n",
              "      <td>6.086922</td>\n",
              "      <td>127.924610</td>\n",
              "      <td>coffee</td>\n",
              "    </tr>\n",
              "    <tr>\n",
              "      <th>2197</th>\n",
              "      <td>118</td>\n",
              "      <td>33</td>\n",
              "      <td>30</td>\n",
              "      <td>24.131797</td>\n",
              "      <td>67.225123</td>\n",
              "      <td>6.362608</td>\n",
              "      <td>173.322839</td>\n",
              "      <td>coffee</td>\n",
              "    </tr>\n",
              "    <tr>\n",
              "      <th>2198</th>\n",
              "      <td>117</td>\n",
              "      <td>32</td>\n",
              "      <td>34</td>\n",
              "      <td>26.272418</td>\n",
              "      <td>52.127394</td>\n",
              "      <td>6.758793</td>\n",
              "      <td>127.175293</td>\n",
              "      <td>coffee</td>\n",
              "    </tr>\n",
              "    <tr>\n",
              "      <th>2199</th>\n",
              "      <td>104</td>\n",
              "      <td>18</td>\n",
              "      <td>30</td>\n",
              "      <td>23.603016</td>\n",
              "      <td>60.396475</td>\n",
              "      <td>6.779833</td>\n",
              "      <td>140.937041</td>\n",
              "      <td>coffee</td>\n",
              "    </tr>\n",
              "  </tbody>\n",
              "</table>\n",
              "<p>500 rows × 8 columns</p>\n",
              "</div>\n",
              "      <button class=\"colab-df-convert\" onclick=\"convertToInteractive('df-ced1d8f5-04ef-4a62-89ef-8ef2b131a2b9')\"\n",
              "              title=\"Convert this dataframe to an interactive table.\"\n",
              "              style=\"display:none;\">\n",
              "        \n",
              "  <svg xmlns=\"http://www.w3.org/2000/svg\" height=\"24px\"viewBox=\"0 0 24 24\"\n",
              "       width=\"24px\">\n",
              "    <path d=\"M0 0h24v24H0V0z\" fill=\"none\"/>\n",
              "    <path d=\"M18.56 5.44l.94 2.06.94-2.06 2.06-.94-2.06-.94-.94-2.06-.94 2.06-2.06.94zm-11 1L8.5 8.5l.94-2.06 2.06-.94-2.06-.94L8.5 2.5l-.94 2.06-2.06.94zm10 10l.94 2.06.94-2.06 2.06-.94-2.06-.94-.94-2.06-.94 2.06-2.06.94z\"/><path d=\"M17.41 7.96l-1.37-1.37c-.4-.4-.92-.59-1.43-.59-.52 0-1.04.2-1.43.59L10.3 9.45l-7.72 7.72c-.78.78-.78 2.05 0 2.83L4 21.41c.39.39.9.59 1.41.59.51 0 1.02-.2 1.41-.59l7.78-7.78 2.81-2.81c.8-.78.8-2.07 0-2.86zM5.41 20L4 18.59l7.72-7.72 1.47 1.35L5.41 20z\"/>\n",
              "  </svg>\n",
              "      </button>\n",
              "      \n",
              "  <style>\n",
              "    .colab-df-container {\n",
              "      display:flex;\n",
              "      flex-wrap:wrap;\n",
              "      gap: 12px;\n",
              "    }\n",
              "\n",
              "    .colab-df-convert {\n",
              "      background-color: #E8F0FE;\n",
              "      border: none;\n",
              "      border-radius: 50%;\n",
              "      cursor: pointer;\n",
              "      display: none;\n",
              "      fill: #1967D2;\n",
              "      height: 32px;\n",
              "      padding: 0 0 0 0;\n",
              "      width: 32px;\n",
              "    }\n",
              "\n",
              "    .colab-df-convert:hover {\n",
              "      background-color: #E2EBFA;\n",
              "      box-shadow: 0px 1px 2px rgba(60, 64, 67, 0.3), 0px 1px 3px 1px rgba(60, 64, 67, 0.15);\n",
              "      fill: #174EA6;\n",
              "    }\n",
              "\n",
              "    [theme=dark] .colab-df-convert {\n",
              "      background-color: #3B4455;\n",
              "      fill: #D2E3FC;\n",
              "    }\n",
              "\n",
              "    [theme=dark] .colab-df-convert:hover {\n",
              "      background-color: #434B5C;\n",
              "      box-shadow: 0px 1px 3px 1px rgba(0, 0, 0, 0.15);\n",
              "      filter: drop-shadow(0px 1px 2px rgba(0, 0, 0, 0.3));\n",
              "      fill: #FFFFFF;\n",
              "    }\n",
              "  </style>\n",
              "\n",
              "      <script>\n",
              "        const buttonEl =\n",
              "          document.querySelector('#df-ced1d8f5-04ef-4a62-89ef-8ef2b131a2b9 button.colab-df-convert');\n",
              "        buttonEl.style.display =\n",
              "          google.colab.kernel.accessAllowed ? 'block' : 'none';\n",
              "\n",
              "        async function convertToInteractive(key) {\n",
              "          const element = document.querySelector('#df-ced1d8f5-04ef-4a62-89ef-8ef2b131a2b9');\n",
              "          const dataTable =\n",
              "            await google.colab.kernel.invokeFunction('convertToInteractive',\n",
              "                                                     [key], {});\n",
              "          if (!dataTable) return;\n",
              "\n",
              "          const docLinkHtml = 'Like what you see? Visit the ' +\n",
              "            '<a target=\"_blank\" href=https://colab.research.google.com/notebooks/data_table.ipynb>data table notebook</a>'\n",
              "            + ' to learn more about interactive tables.';\n",
              "          element.innerHTML = '';\n",
              "          dataTable['output_type'] = 'display_data';\n",
              "          await google.colab.output.renderOutput(dataTable, element);\n",
              "          const docLink = document.createElement('div');\n",
              "          docLink.innerHTML = docLinkHtml;\n",
              "          element.appendChild(docLink);\n",
              "        }\n",
              "      </script>\n",
              "    </div>\n",
              "  </div>\n",
              "  "
            ]
          },
          "metadata": {},
          "execution_count": 13
        }
      ]
    },
    {
      "cell_type": "code",
      "source": [
        "df_crop['label'].unique()"
      ],
      "metadata": {
        "colab": {
          "base_uri": "https://localhost:8080/"
        },
        "id": "AVP7QqFlpV9y",
        "outputId": "d44b8ddb-a7e1-486b-c857-de83be7f98d2"
      },
      "execution_count": 14,
      "outputs": [
        {
          "output_type": "execute_result",
          "data": {
            "text/plain": [
              "array(['rice', 'maize', 'grapes', 'apple', 'coffee'], dtype=object)"
            ]
          },
          "metadata": {},
          "execution_count": 14
        }
      ]
    },
    {
      "cell_type": "code",
      "source": [
        "df_crop.label.value_counts().plot(kind = 'bar')"
      ],
      "metadata": {
        "colab": {
          "base_uri": "https://localhost:8080/",
          "height": 481
        },
        "id": "uXrvlYvGt5CX",
        "outputId": "f4ac8023-8a6d-4867-e3c3-1f7a320d98be"
      },
      "execution_count": 15,
      "outputs": [
        {
          "output_type": "execute_result",
          "data": {
            "text/plain": [
              "<Axes: >"
            ]
          },
          "metadata": {},
          "execution_count": 15
        },
        {
          "output_type": "display_data",
          "data": {
            "text/plain": [
              "<Figure size 640x480 with 1 Axes>"
            ],
            "image/png": "[encoded data removed]"
          },
          "metadata": {}
        }
      ]
    },
    {
      "cell_type": "code",
      "source": [
        "label_encode = LabelEncoder()\n",
        "\n",
        "df_crop['label'] = label_encode.fit_transform(df_crop['label'])\n",
        "crop_category = {index : label for index, label in enumerate(label_encode.classes_)}\n",
        "crop_category"
      ],
      "metadata": {
        "colab": {
          "base_uri": "https://localhost:8080/"
        },
        "id": "bLa66k2EZHeu",
        "outputId": "2beece75-b15d-45dc-d077-db1a2ff4ca60"
      },
      "execution_count": 16,
      "outputs": [
        {
          "output_type": "execute_result",
          "data": {
            "text/plain": [
              "{0: 'apple', 1: 'coffee', 2: 'grapes', 3: 'maize', 4: 'rice'}"
            ]
          },
          "metadata": {},
          "execution_count": 16
        }
      ]
    },
    {
      "cell_type": "code",
      "source": [
        "X = df_crop.drop('label', axis = 1)\n",
        "y = df_crop['label']\n",
        "X"
      ],
      "metadata": {
        "colab": {
          "base_uri": "https://localhost:8080/",
          "height": 423
        },
        "id": "W-lH51RoZM8K",
        "outputId": "84cc9161-034e-48d2-d627-ea585dac434c"
      },
      "execution_count": 17,
      "outputs": [
        {
          "output_type": "execute_result",
          "data": {
            "text/plain": [
              "        N   P   K  temperature   humidity        ph    rainfall\n",
              "0      90  42  43    20.879744  82.002744  6.502985  202.935536\n",
              "1      85  58  41    21.770462  80.319644  7.038096  226.655537\n",
              "2      60  55  44    23.004459  82.320763  7.840207  263.964248\n",
              "3      74  35  40    26.491096  80.158363  6.980401  242.864034\n",
              "4      78  42  42    20.130175  81.604873  7.628473  262.717340\n",
              "...   ...  ..  ..          ...        ...       ...         ...\n",
              "2195  107  34  32    26.774637  66.413269  6.780064  177.774507\n",
              "2196   99  15  27    27.417112  56.636362  6.086922  127.924610\n",
              "2197  118  33  30    24.131797  67.225123  6.362608  173.322839\n",
              "2198  117  32  34    26.272418  52.127394  6.758793  127.175293\n",
              "2199  104  18  30    23.603016  60.396475  6.779833  140.937041\n",
              "\n",
              "[500 rows x 7 columns]"
            ],
            "text/html": [
              "\n",
              "  <div id=\"df-81907696-fb62-49d3-b50e-1f23d5e58b83\">\n",
              "    <div class=\"colab-df-container\">\n",
              "      <div>\n",
              "<style scoped>\n",
              "    .dataframe tbody tr th:only-of-type {\n",
              "        vertical-align: middle;\n",
              "    }\n",
              "\n",
              "    .dataframe tbody tr th {\n",
              "        vertical-align: top;\n",
              "    }\n",
              "\n",
              "    .dataframe thead th {\n",
              "        text-align: right;\n",
              "    }\n",
              "</style>\n",
              "<table border=\"1\" class=\"dataframe\">\n",
              "  <thead>\n",
              "    <tr style=\"text-align: right;\">\n",
              "      <th></th>\n",
              "      <th>N</th>\n",
              "      <th>P</th>\n",
              "      <th>K</th>\n",
              "      <th>temperature</th>\n",
              "      <th>humidity</th>\n",
              "      <th>ph</th>\n",
              "      <th>rainfall</th>\n",
              "    </tr>\n",
              "  </thead>\n",
              "  <tbody>\n",
              "    <tr>\n",
              "      <th>0</th>\n",
              "      <td>90</td>\n",
              "      <td>42</td>\n",
              "      <td>43</td>\n",
              "      <td>20.879744</td>\n",
              "      <td>82.002744</td>\n",
              "      <td>6.502985</td>\n",
              "      <td>202.935536</td>\n",
              "    </tr>\n",
              "    <tr>\n",
              "      <th>1</th>\n",
              "      <td>85</td>\n",
              "      <td>58</td>\n",
              "      <td>41</td>\n",
              "      <td>21.770462</td>\n",
              "      <td>80.319644</td>\n",
              "      <td>7.038096</td>\n",
              "      <td>226.655537</td>\n",
              "    </tr>\n",
              "    <tr>\n",
              "      <th>2</th>\n",
              "      <td>60</td>\n",
              "      <td>55</td>\n",
              "      <td>44</td>\n",
              "      <td>23.004459</td>\n",
              "      <td>82.320763</td>\n",
              "      <td>7.840207</td>\n",
              "      <td>263.964248</td>\n",
              "    </tr>\n",
              "    <tr>\n",
              "      <th>3</th>\n",
              "      <td>74</td>\n",
              "      <td>35</td>\n",
              "      <td>40</td>\n",
              "      <td>26.491096</td>\n",
              "      <td>80.158363</td>\n",
              "      <td>6.980401</td>\n",
              "      <td>242.864034</td>\n",
              "    </tr>\n",
              "    <tr>\n",
              "      <th>4</th>\n",
              "      <td>78</td>\n",
              "      <td>42</td>\n",
              "      <td>42</td>\n",
              "      <td>20.130175</td>\n",
              "      <td>81.604873</td>\n",
              "      <td>7.628473</td>\n",
              "      <td>262.717340</td>\n",
              "    </tr>\n",
              "    <tr>\n",
              "      <th>...</th>\n",
              "      <td>...</td>\n",
              "      <td>...</td>\n",
              "      <td>...</td>\n",
              "      <td>...</td>\n",
              "      <td>...</td>\n",
              "      <td>...</td>\n",
              "      <td>...</td>\n",
              "    </tr>\n",
              "    <tr>\n",
              "      <th>2195</th>\n",
              "      <td>107</td>\n",
              "      <td>34</td>\n",
              "      <td>32</td>\n",
              "      <td>26.774637</td>\n",
              "      <td>66.413269</td>\n",
              "      <td>6.780064</td>\n",
              "      <td>177.774507</td>\n",
              "    </tr>\n",
              "    <tr>\n",
              "      <th>2196</th>\n",
              "      <td>99</td>\n",
              "      <td>15</td>\n",
              "      <td>27</td>\n",
              "      <td>27.417112</td>\n",
              "      <td>56.636362</td>\n",
              "      <td>6.086922</td>\n",
              "      <td>127.924610</td>\n",
              "    </tr>\n",
              "    <tr>\n",
              "      <th>2197</th>\n",
              "      <td>118</td>\n",
              "      <td>33</td>\n",
              "      <td>30</td>\n",
              "      <td>24.131797</td>\n",
              "      <td>67.225123</td>\n",
              "      <td>6.362608</td>\n",
              "      <td>173.322839</td>\n",
              "    </tr>\n",
              "    <tr>\n",
              "      <th>2198</th>\n",
              "      <td>117</td>\n",
              "      <td>32</td>\n",
              "      <td>34</td>\n",
              "      <td>26.272418</td>\n",
              "      <td>52.127394</td>\n",
              "      <td>6.758793</td>\n",
              "      <td>127.175293</td>\n",
              "    </tr>\n",
              "    <tr>\n",
              "      <th>2199</th>\n",
              "      <td>104</td>\n",
              "      <td>18</td>\n",
              "      <td>30</td>\n",
              "      <td>23.603016</td>\n",
              "      <td>60.396475</td>\n",
              "      <td>6.779833</td>\n",
              "      <td>140.937041</td>\n",
              "    </tr>\n",
              "  </tbody>\n",
              "</table>\n",
              "<p>500 rows × 7 columns</p>\n",
              "</div>\n",
              "      <button class=\"colab-df-convert\" onclick=\"convertToInteractive('df-81907696-fb62-49d3-b50e-1f23d5e58b83')\"\n",
              "              title=\"Convert this dataframe to an interactive table.\"\n",
              "              style=\"display:none;\">\n",
              "        \n",
              "  <svg xmlns=\"http://www.w3.org/2000/svg\" height=\"24px\"viewBox=\"0 0 24 24\"\n",
              "       width=\"24px\">\n",
              "    <path d=\"M0 0h24v24H0V0z\" fill=\"none\"/>\n",
              "    <path d=\"M18.56 5.44l.94 2.06.94-2.06 2.06-.94-2.06-.94-.94-2.06-.94 2.06-2.06.94zm-11 1L8.5 8.5l.94-2.06 2.06-.94-2.06-.94L8.5 2.5l-.94 2.06-2.06.94zm10 10l.94 2.06.94-2.06 2.06-.94-2.06-.94-.94-2.06-.94 2.06-2.06.94z\"/><path d=\"M17.41 7.96l-1.37-1.37c-.4-.4-.92-.59-1.43-.59-.52 0-1.04.2-1.43.59L10.3 9.45l-7.72 7.72c-.78.78-.78 2.05 0 2.83L4 21.41c.39.39.9.59 1.41.59.51 0 1.02-.2 1.41-.59l7.78-7.78 2.81-2.81c.8-.78.8-2.07 0-2.86zM5.41 20L4 18.59l7.72-7.72 1.47 1.35L5.41 20z\"/>\n",
              "  </svg>\n",
              "      </button>\n",
              "      \n",
              "  <style>\n",
              "    .colab-df-container {\n",
              "      display:flex;\n",
              "      flex-wrap:wrap;\n",
              "      gap: 12px;\n",
              "    }\n",
              "\n",
              "    .colab-df-convert {\n",
              "      background-color: #E8F0FE;\n",
              "      border: none;\n",
              "      border-radius: 50%;\n",
              "      cursor: pointer;\n",
              "      display: none;\n",
              "      fill: #1967D2;\n",
              "      height: 32px;\n",
              "      padding: 0 0 0 0;\n",
              "      width: 32px;\n",
              "    }\n",
              "\n",
              "    .colab-df-convert:hover {\n",
              "      background-color: #E2EBFA;\n",
              "      box-shadow: 0px 1px 2px rgba(60, 64, 67, 0.3), 0px 1px 3px 1px rgba(60, 64, 67, 0.15);\n",
              "      fill: #174EA6;\n",
              "    }\n",
              "\n",
              "    [theme=dark] .colab-df-convert {\n",
              "      background-color: #3B4455;\n",
              "      fill: #D2E3FC;\n",
              "    }\n",
              "\n",
              "    [theme=dark] .colab-df-convert:hover {\n",
              "      background-color: #434B5C;\n",
              "      box-shadow: 0px 1px 3px 1px rgba(0, 0, 0, 0.15);\n",
              "      filter: drop-shadow(0px 1px 2px rgba(0, 0, 0, 0.3));\n",
              "      fill: #FFFFFF;\n",
              "    }\n",
              "  </style>\n",
              "\n",
              "      <script>\n",
              "        const buttonEl =\n",
              "          document.querySelector('#df-81907696-fb62-49d3-b50e-1f23d5e58b83 button.colab-df-convert');\n",
              "        buttonEl.style.display =\n",
              "          google.colab.kernel.accessAllowed ? 'block' : 'none';\n",
              "\n",
              "        async function convertToInteractive(key) {\n",
              "          const element = document.querySelector('#df-81907696-fb62-49d3-b50e-1f23d5e58b83');\n",
              "          const dataTable =\n",
              "            await google.colab.kernel.invokeFunction('convertToInteractive',\n",
              "                                                     [key], {});\n",
              "          if (!dataTable) return;\n",
              "\n",
              "          const docLinkHtml = 'Like what you see? Visit the ' +\n",
              "            '<a target=\"_blank\" href=https://colab.research.google.com/notebooks/data_table.ipynb>data table notebook</a>'\n",
              "            + ' to learn more about interactive tables.';\n",
              "          element.innerHTML = '';\n",
              "          dataTable['output_type'] = 'display_data';\n",
              "          await google.colab.output.renderOutput(dataTable, element);\n",
              "          const docLink = document.createElement('div');\n",
              "          docLink.innerHTML = docLinkHtml;\n",
              "          element.appendChild(docLink);\n",
              "        }\n",
              "      </script>\n",
              "    </div>\n",
              "  </div>\n",
              "  "
            ]
          },
          "metadata": {},
          "execution_count": 17
        }
      ]
    },
    {
      "cell_type": "code",
      "source": [
        "y"
      ],
      "metadata": {
        "colab": {
          "base_uri": "https://localhost:8080/"
        },
        "id": "9LjVnvRSZeOo",
        "outputId": "4c0ebfab-b280-4c6d-aa64-467af58a3e59"
      },
      "execution_count": 18,
      "outputs": [
        {
          "output_type": "execute_result",
          "data": {
            "text/plain": [
              "0       4\n",
              "1       4\n",
              "2       4\n",
              "3       4\n",
              "4       4\n",
              "       ..\n",
              "2195    1\n",
              "2196    1\n",
              "2197    1\n",
              "2198    1\n",
              "2199    1\n",
              "Name: label, Length: 500, dtype: int64"
            ]
          },
          "metadata": {},
          "execution_count": 18
        }
      ]
    },
    {
      "cell_type": "code",
      "source": [
        "X_train, X_test, y_train, y_test = train_test_split(X, y, train_size = 0.8)\n"
      ],
      "metadata": {
        "id": "S6wxN6gEZhz_"
      },
      "execution_count": 19,
      "outputs": []
    },
    {
      "cell_type": "code",
      "source": [
        "X_train.shape"
      ],
      "metadata": {
        "colab": {
          "base_uri": "https://localhost:8080/"
        },
        "id": "OqCWtYCuZmFH",
        "outputId": "0cd05735-52d1-40ea-ff23-3d78bb36f09e"
      },
      "execution_count": 20,
      "outputs": [
        {
          "output_type": "execute_result",
          "data": {
            "text/plain": [
              "(400, 7)"
            ]
          },
          "metadata": {},
          "execution_count": 20
        }
      ]
    },
    {
      "cell_type": "code",
      "source": [
        "y_class = len(y_train.unique())"
      ],
      "metadata": {
        "id": "FpOuk5fobD6A"
      },
      "execution_count": 21,
      "outputs": []
    },
    {
      "cell_type": "code",
      "source": [
        "inputs = tf.keras.Input(shape = (7, ))\n",
        "x = tf.keras.layers.Dense(256, activation = 'relu')(inputs)\n",
        "x = tf.keras.layers.Dropout(0.2)(x)\n",
        "x = tf.keras.layers.Dense(128, activation = 'relu')(x)\n",
        "x = tf.keras.layers.Dropout(0.2)(x)\n",
        "x = tf.keras.layers.Dense(64, activation = 'relu')(x)\n",
        "outputs = tf.keras.layers.Dense(y_class, activation = 'softmax')(x)\n",
        "\n",
        "model = tf.keras.Model(inputs, outputs)\n",
        "\n",
        "model.compile(\n",
        "    optimizer = 'adam',\n",
        "    loss = 'sparse_categorical_crossentropy',\n",
        "    metrics = 'accuracy'\n",
        ")\n",
        "\n",
        "batch_size = 128\n",
        "epochs = 89\n",
        "\n",
        "model.summary()"
      ],
      "metadata": {
        "colab": {
          "base_uri": "https://localhost:8080/"
        },
        "id": "HtdC6-OcZnYC",
        "outputId": "5d3d1d11-c907-44fd-d98c-658c555b76a4"
      },
      "execution_count": 22,
      "outputs": [
        {
          "output_type": "stream",
          "name": "stdout",
          "text": [
            "Model: \"model\"\n",
            "_________________________________________________________________\n",
            " Layer (type)                Output Shape              Param #   \n",
            "=================================================================\n",
            " input_1 (InputLayer)        [(None, 7)]               0         \n",
            "                                                                 \n",
            " dense (Dense)               (None, 256)               2048      \n",
            "                                                                 \n",
            " dropout (Dropout)           (None, 256)               0         \n",
            "                                                                 \n",
            " dense_1 (Dense)             (None, 128)               32896     \n",
            "                                                                 \n",
            " dropout_1 (Dropout)         (None, 128)               0         \n",
            "                                                                 \n",
            " dense_2 (Dense)             (None, 64)                8256      \n",
            "                                                                 \n",
            " dense_3 (Dense)             (None, 5)                 325       \n",
            "                                                                 \n",
            "=================================================================\n",
            "Total params: 43,525\n",
            "Trainable params: 43,525\n",
            "Non-trainable params: 0\n",
            "_________________________________________________________________\n"
          ]
        }
      ]
    },
    {
      "cell_type": "code",
      "source": [
        "history = model.fit(\n",
        "    X_train,\n",
        "    y_train,\n",
        "    validation_split = 0.2,\n",
        "    batch_size = batch_size,\n",
        "    epochs = epochs\n",
        ")"
      ],
      "metadata": {
        "colab": {
          "base_uri": "https://localhost:8080/"
        },
        "id": "f7Xe7TDzogV_",
        "outputId": "af1debf7-bd41-4792-d22a-5c351aef58a3"
      },
      "execution_count": 23,
      "outputs": [
        {
          "output_type": "stream",
          "name": "stdout",
          "text": [
            "Epoch 1/89\n",
            "3/3 [==============================] - 4s 456ms/step - loss: 14.0371 - accuracy: 0.2219 - val_loss: 6.6350 - val_accuracy: 0.4750\n",
            "Epoch 2/89\n",
            "3/3 [==============================] - 0s 42ms/step - loss: 7.3768 - accuracy: 0.3719 - val_loss: 2.9406 - val_accuracy: 0.5375\n",
            "Epoch 3/89\n",
            "3/3 [==============================] - 0s 39ms/step - loss: 4.6815 - accuracy: 0.4938 - val_loss: 0.9442 - val_accuracy: 0.6875\n",
            "Epoch 4/89\n",
            "3/3 [==============================] - 0s 43ms/step - loss: 4.0017 - accuracy: 0.5188 - val_loss: 0.5453 - val_accuracy: 0.7750\n",
            "Epoch 5/89\n",
            "3/3 [==============================] - 0s 53ms/step - loss: 2.7899 - accuracy: 0.5969 - val_loss: 0.2371 - val_accuracy: 0.9500\n",
            "Epoch 6/89\n",
            "3/3 [==============================] - 0s 43ms/step - loss: 1.8332 - accuracy: 0.6219 - val_loss: 0.5885 - val_accuracy: 0.7250\n",
            "Epoch 7/89\n",
            "3/3 [==============================] - 0s 52ms/step - loss: 1.9622 - accuracy: 0.6281 - val_loss: 0.4036 - val_accuracy: 0.8000\n",
            "Epoch 8/89\n",
            "3/3 [==============================] - 0s 42ms/step - loss: 1.5238 - accuracy: 0.6781 - val_loss: 0.2966 - val_accuracy: 0.8375\n",
            "Epoch 9/89\n",
            "3/3 [==============================] - 0s 71ms/step - loss: 1.3841 - accuracy: 0.7094 - val_loss: 0.4865 - val_accuracy: 0.8250\n",
            "Epoch 10/89\n",
            "3/3 [==============================] - 0s 37ms/step - loss: 1.1830 - accuracy: 0.7375 - val_loss: 0.1930 - val_accuracy: 0.9125\n",
            "Epoch 11/89\n",
            "3/3 [==============================] - 0s 55ms/step - loss: 0.8831 - accuracy: 0.7812 - val_loss: 0.1764 - val_accuracy: 0.9000\n",
            "Epoch 12/89\n",
            "3/3 [==============================] - 0s 76ms/step - loss: 0.7420 - accuracy: 0.8000 - val_loss: 0.1699 - val_accuracy: 0.9125\n",
            "Epoch 13/89\n",
            "3/3 [==============================] - 0s 57ms/step - loss: 0.8664 - accuracy: 0.8000 - val_loss: 0.0962 - val_accuracy: 0.9625\n",
            "Epoch 14/89\n",
            "3/3 [==============================] - 0s 78ms/step - loss: 0.8289 - accuracy: 0.8000 - val_loss: 0.0761 - val_accuracy: 0.9750\n",
            "Epoch 15/89\n",
            "3/3 [==============================] - 0s 44ms/step - loss: 0.6380 - accuracy: 0.8156 - val_loss: 0.0556 - val_accuracy: 0.9750\n",
            "Epoch 16/89\n",
            "3/3 [==============================] - 0s 40ms/step - loss: 0.6004 - accuracy: 0.8125 - val_loss: 0.0457 - val_accuracy: 0.9875\n",
            "Epoch 17/89\n",
            "3/3 [==============================] - 0s 59ms/step - loss: 0.5372 - accuracy: 0.8719 - val_loss: 0.0679 - val_accuracy: 0.9750\n",
            "Epoch 18/89\n",
            "3/3 [==============================] - 0s 52ms/step - loss: 0.6287 - accuracy: 0.8125 - val_loss: 0.1232 - val_accuracy: 0.9500\n",
            "Epoch 19/89\n",
            "3/3 [==============================] - 0s 42ms/step - loss: 0.5062 - accuracy: 0.8469 - val_loss: 0.0707 - val_accuracy: 0.9750\n",
            "Epoch 20/89\n",
            "3/3 [==============================] - 0s 39ms/step - loss: 0.5112 - accuracy: 0.8375 - val_loss: 0.0335 - val_accuracy: 0.9875\n",
            "Epoch 21/89\n",
            "3/3 [==============================] - 0s 39ms/step - loss: 0.4298 - accuracy: 0.8781 - val_loss: 0.0390 - val_accuracy: 0.9875\n",
            "Epoch 22/89\n",
            "3/3 [==============================] - 0s 37ms/step - loss: 0.3903 - accuracy: 0.8781 - val_loss: 0.0785 - val_accuracy: 0.9750\n",
            "Epoch 23/89\n",
            "3/3 [==============================] - 0s 37ms/step - loss: 0.3690 - accuracy: 0.8719 - val_loss: 0.1575 - val_accuracy: 0.9625\n",
            "Epoch 24/89\n",
            "3/3 [==============================] - 0s 42ms/step - loss: 0.3472 - accuracy: 0.8813 - val_loss: 0.1508 - val_accuracy: 0.9500\n",
            "Epoch 25/89\n",
            "3/3 [==============================] - 0s 71ms/step - loss: 0.3960 - accuracy: 0.8750 - val_loss: 0.0759 - val_accuracy: 0.9750\n",
            "Epoch 26/89\n",
            "3/3 [==============================] - 0s 49ms/step - loss: 0.4040 - accuracy: 0.8750 - val_loss: 0.0273 - val_accuracy: 0.9875\n",
            "Epoch 27/89\n",
            "3/3 [==============================] - 0s 41ms/step - loss: 0.2818 - accuracy: 0.9062 - val_loss: 0.0216 - val_accuracy: 0.9875\n",
            "Epoch 28/89\n",
            "3/3 [==============================] - 0s 35ms/step - loss: 0.2156 - accuracy: 0.9250 - val_loss: 0.0242 - val_accuracy: 0.9875\n",
            "Epoch 29/89\n",
            "3/3 [==============================] - 0s 34ms/step - loss: 0.2193 - accuracy: 0.9281 - val_loss: 0.0290 - val_accuracy: 0.9875\n",
            "Epoch 30/89\n",
            "3/3 [==============================] - 0s 39ms/step - loss: 0.2790 - accuracy: 0.9125 - val_loss: 0.0568 - val_accuracy: 0.9750\n",
            "Epoch 31/89\n",
            "3/3 [==============================] - 0s 40ms/step - loss: 0.2348 - accuracy: 0.9281 - val_loss: 0.0728 - val_accuracy: 0.9750\n",
            "Epoch 32/89\n",
            "3/3 [==============================] - 0s 35ms/step - loss: 0.2317 - accuracy: 0.9250 - val_loss: 0.0385 - val_accuracy: 0.9750\n",
            "Epoch 33/89\n",
            "3/3 [==============================] - 0s 33ms/step - loss: 0.2028 - accuracy: 0.9187 - val_loss: 0.0117 - val_accuracy: 1.0000\n",
            "Epoch 34/89\n",
            "3/3 [==============================] - 0s 33ms/step - loss: 0.2108 - accuracy: 0.9281 - val_loss: 0.0099 - val_accuracy: 1.0000\n",
            "Epoch 35/89\n",
            "3/3 [==============================] - 0s 43ms/step - loss: 0.2362 - accuracy: 0.9250 - val_loss: 0.0100 - val_accuracy: 1.0000\n",
            "Epoch 36/89\n",
            "3/3 [==============================] - 0s 39ms/step - loss: 0.2440 - accuracy: 0.9125 - val_loss: 0.0226 - val_accuracy: 0.9875\n",
            "Epoch 37/89\n",
            "3/3 [==============================] - 0s 77ms/step - loss: 0.1715 - accuracy: 0.9375 - val_loss: 0.0487 - val_accuracy: 0.9750\n",
            "Epoch 38/89\n",
            "3/3 [==============================] - 0s 55ms/step - loss: 0.2514 - accuracy: 0.9375 - val_loss: 0.0392 - val_accuracy: 0.9750\n",
            "Epoch 39/89\n",
            "3/3 [==============================] - 0s 40ms/step - loss: 0.2181 - accuracy: 0.9281 - val_loss: 0.0223 - val_accuracy: 0.9875\n",
            "Epoch 40/89\n",
            "3/3 [==============================] - 0s 36ms/step - loss: 0.1910 - accuracy: 0.9219 - val_loss: 0.0085 - val_accuracy: 1.0000\n",
            "Epoch 41/89\n",
            "3/3 [==============================] - 0s 43ms/step - loss: 0.1897 - accuracy: 0.9438 - val_loss: 0.0099 - val_accuracy: 1.0000\n",
            "Epoch 42/89\n",
            "3/3 [==============================] - 0s 64ms/step - loss: 0.2208 - accuracy: 0.9219 - val_loss: 0.0451 - val_accuracy: 0.9750\n",
            "Epoch 43/89\n",
            "3/3 [==============================] - 0s 39ms/step - loss: 0.1902 - accuracy: 0.9406 - val_loss: 0.0952 - val_accuracy: 0.9750\n",
            "Epoch 44/89\n",
            "3/3 [==============================] - 0s 51ms/step - loss: 0.1799 - accuracy: 0.9375 - val_loss: 0.0491 - val_accuracy: 0.9750\n",
            "Epoch 45/89\n",
            "3/3 [==============================] - 0s 44ms/step - loss: 0.1882 - accuracy: 0.9281 - val_loss: 0.0323 - val_accuracy: 0.9875\n",
            "Epoch 46/89\n",
            "3/3 [==============================] - 0s 85ms/step - loss: 0.1138 - accuracy: 0.9594 - val_loss: 0.0321 - val_accuracy: 0.9875\n",
            "Epoch 47/89\n",
            "3/3 [==============================] - 0s 44ms/step - loss: 0.1492 - accuracy: 0.9625 - val_loss: 0.0338 - val_accuracy: 0.9875\n",
            "Epoch 48/89\n",
            "3/3 [==============================] - 0s 40ms/step - loss: 0.1148 - accuracy: 0.9500 - val_loss: 0.0301 - val_accuracy: 0.9875\n",
            "Epoch 49/89\n",
            "3/3 [==============================] - 0s 51ms/step - loss: 0.1040 - accuracy: 0.9688 - val_loss: 0.0133 - val_accuracy: 0.9875\n",
            "Epoch 50/89\n",
            "3/3 [==============================] - 0s 54ms/step - loss: 0.1026 - accuracy: 0.9688 - val_loss: 0.0160 - val_accuracy: 0.9875\n",
            "Epoch 51/89\n",
            "3/3 [==============================] - 0s 37ms/step - loss: 0.0745 - accuracy: 0.9688 - val_loss: 0.0193 - val_accuracy: 0.9875\n",
            "Epoch 52/89\n",
            "3/3 [==============================] - 0s 49ms/step - loss: 0.1205 - accuracy: 0.9594 - val_loss: 0.0126 - val_accuracy: 1.0000\n",
            "Epoch 53/89\n",
            "3/3 [==============================] - 0s 42ms/step - loss: 0.0821 - accuracy: 0.9812 - val_loss: 0.0214 - val_accuracy: 0.9875\n",
            "Epoch 54/89\n",
            "3/3 [==============================] - 0s 31ms/step - loss: 0.1173 - accuracy: 0.9656 - val_loss: 0.0214 - val_accuracy: 0.9875\n",
            "Epoch 55/89\n",
            "3/3 [==============================] - 0s 47ms/step - loss: 0.1060 - accuracy: 0.9594 - val_loss: 0.0194 - val_accuracy: 0.9875\n",
            "Epoch 56/89\n",
            "3/3 [==============================] - 0s 54ms/step - loss: 0.1171 - accuracy: 0.9625 - val_loss: 0.0252 - val_accuracy: 0.9875\n",
            "Epoch 57/89\n",
            "3/3 [==============================] - 0s 65ms/step - loss: 0.1374 - accuracy: 0.9531 - val_loss: 0.0151 - val_accuracy: 0.9875\n",
            "Epoch 58/89\n",
            "3/3 [==============================] - 0s 43ms/step - loss: 0.0815 - accuracy: 0.9781 - val_loss: 0.0100 - val_accuracy: 1.0000\n",
            "Epoch 59/89\n",
            "3/3 [==============================] - 0s 41ms/step - loss: 0.1015 - accuracy: 0.9625 - val_loss: 0.0167 - val_accuracy: 0.9875\n",
            "Epoch 60/89\n",
            "3/3 [==============================] - 0s 60ms/step - loss: 0.0830 - accuracy: 0.9656 - val_loss: 0.0264 - val_accuracy: 0.9875\n",
            "Epoch 61/89\n",
            "3/3 [==============================] - 0s 47ms/step - loss: 0.0700 - accuracy: 0.9781 - val_loss: 0.0296 - val_accuracy: 0.9875\n",
            "Epoch 62/89\n",
            "3/3 [==============================] - 0s 46ms/step - loss: 0.0689 - accuracy: 0.9656 - val_loss: 0.0227 - val_accuracy: 0.9875\n",
            "Epoch 63/89\n",
            "3/3 [==============================] - 0s 38ms/step - loss: 0.0661 - accuracy: 0.9750 - val_loss: 0.0164 - val_accuracy: 0.9875\n",
            "Epoch 64/89\n",
            "3/3 [==============================] - 0s 41ms/step - loss: 0.0290 - accuracy: 0.9875 - val_loss: 0.0187 - val_accuracy: 0.9875\n",
            "Epoch 65/89\n",
            "3/3 [==============================] - 0s 40ms/step - loss: 0.0848 - accuracy: 0.9750 - val_loss: 0.0239 - val_accuracy: 0.9875\n",
            "Epoch 66/89\n",
            "3/3 [==============================] - 0s 82ms/step - loss: 0.0737 - accuracy: 0.9750 - val_loss: 0.0116 - val_accuracy: 1.0000\n",
            "Epoch 67/89\n",
            "3/3 [==============================] - 0s 104ms/step - loss: 0.0798 - accuracy: 0.9719 - val_loss: 0.0098 - val_accuracy: 1.0000\n",
            "Epoch 68/89\n",
            "3/3 [==============================] - 0s 109ms/step - loss: 0.0501 - accuracy: 0.9812 - val_loss: 0.0174 - val_accuracy: 0.9875\n",
            "Epoch 69/89\n",
            "3/3 [==============================] - 0s 98ms/step - loss: 0.0887 - accuracy: 0.9656 - val_loss: 0.0160 - val_accuracy: 0.9875\n",
            "Epoch 70/89\n",
            "3/3 [==============================] - 0s 85ms/step - loss: 0.0900 - accuracy: 0.9688 - val_loss: 0.0094 - val_accuracy: 1.0000\n",
            "Epoch 71/89\n",
            "3/3 [==============================] - 0s 70ms/step - loss: 0.0684 - accuracy: 0.9719 - val_loss: 0.0066 - val_accuracy: 1.0000\n",
            "Epoch 72/89\n",
            "3/3 [==============================] - 0s 113ms/step - loss: 0.0830 - accuracy: 0.9844 - val_loss: 0.0107 - val_accuracy: 1.0000\n",
            "Epoch 73/89\n",
            "3/3 [==============================] - 0s 80ms/step - loss: 0.0832 - accuracy: 0.9750 - val_loss: 0.0354 - val_accuracy: 0.9750\n",
            "Epoch 74/89\n",
            "3/3 [==============================] - 0s 78ms/step - loss: 0.0424 - accuracy: 0.9875 - val_loss: 0.0590 - val_accuracy: 0.9750\n",
            "Epoch 75/89\n",
            "3/3 [==============================] - 0s 66ms/step - loss: 0.0910 - accuracy: 0.9656 - val_loss: 0.0405 - val_accuracy: 0.9750\n",
            "Epoch 76/89\n",
            "3/3 [==============================] - 0s 62ms/step - loss: 0.0708 - accuracy: 0.9781 - val_loss: 0.0135 - val_accuracy: 0.9875\n",
            "Epoch 77/89\n",
            "3/3 [==============================] - 0s 64ms/step - loss: 0.0645 - accuracy: 0.9750 - val_loss: 0.0049 - val_accuracy: 1.0000\n",
            "Epoch 78/89\n",
            "3/3 [==============================] - 0s 51ms/step - loss: 0.1063 - accuracy: 0.9625 - val_loss: 0.0060 - val_accuracy: 1.0000\n",
            "Epoch 79/89\n",
            "3/3 [==============================] - 0s 111ms/step - loss: 0.0739 - accuracy: 0.9750 - val_loss: 0.0386 - val_accuracy: 0.9875\n",
            "Epoch 80/89\n",
            "3/3 [==============================] - 0s 64ms/step - loss: 0.0722 - accuracy: 0.9750 - val_loss: 0.1036 - val_accuracy: 0.9750\n",
            "Epoch 81/89\n",
            "3/3 [==============================] - 0s 74ms/step - loss: 0.0939 - accuracy: 0.9781 - val_loss: 0.0616 - val_accuracy: 0.9750\n",
            "Epoch 82/89\n",
            "3/3 [==============================] - 0s 60ms/step - loss: 0.0545 - accuracy: 0.9812 - val_loss: 0.0280 - val_accuracy: 0.9875\n",
            "Epoch 83/89\n",
            "3/3 [==============================] - 0s 54ms/step - loss: 0.0520 - accuracy: 0.9781 - val_loss: 0.0158 - val_accuracy: 0.9875\n",
            "Epoch 84/89\n",
            "3/3 [==============================] - 0s 46ms/step - loss: 0.0566 - accuracy: 0.9719 - val_loss: 0.0149 - val_accuracy: 0.9875\n",
            "Epoch 85/89\n",
            "3/3 [==============================] - 0s 30ms/step - loss: 0.0767 - accuracy: 0.9781 - val_loss: 0.0193 - val_accuracy: 0.9875\n",
            "Epoch 86/89\n",
            "3/3 [==============================] - 0s 37ms/step - loss: 0.0525 - accuracy: 0.9875 - val_loss: 0.0247 - val_accuracy: 0.9875\n",
            "Epoch 87/89\n",
            "3/3 [==============================] - 0s 41ms/step - loss: 0.0474 - accuracy: 0.9844 - val_loss: 0.0184 - val_accuracy: 0.9875\n",
            "Epoch 88/89\n",
            "3/3 [==============================] - 0s 39ms/step - loss: 0.0744 - accuracy: 0.9781 - val_loss: 0.0123 - val_accuracy: 0.9875\n",
            "Epoch 89/89\n",
            "3/3 [==============================] - 0s 38ms/step - loss: 0.0657 - accuracy: 0.9656 - val_loss: 0.0105 - val_accuracy: 0.9875\n"
          ]
        }
      ]
    },
    {
      "cell_type": "code",
      "source": [
        "epochs = len(history.history['loss'])\n",
        "\n",
        "fig, axs = plt.subplots(1, 2, figsize=(14, 5))\n",
        "\n",
        "# Plot training & validation loss values\n",
        "axs[0].plot(range(epochs), history.history['loss'], label='Training loss')\n",
        "axs[0].plot(range(epochs), history.history['val_loss'], label='Validation loss')\n",
        "axs[0].set_title('Model loss')\n",
        "axs[0].set_xlabel('Epoch')\n",
        "axs[0].set_ylabel('Loss')\n",
        "axs[0].legend()\n",
        "\n",
        "# Plot training & validation accuracy values\n",
        "axs[1].plot(range(epochs), history.history['accuracy'], label='Training accuracy')\n",
        "axs[1].plot(range(epochs), history.history['val_accuracy'], label='Validation accuracy')\n",
        "axs[1].set_title('Model accuracy')\n",
        "axs[1].set_xlabel('Epoch')\n",
        "axs[1].set_ylabel('Accuracy')\n",
        "axs[1].legend()\n",
        "\n",
        "plt.show()"
      ],
      "metadata": {
        "colab": {
          "base_uri": "https://localhost:8080/",
          "height": 472
        },
        "id": "mw0CbYqeZvyB",
        "outputId": "5ffd490a-a3b9-4bc5-9494-a64f0f0a6c89"
      },
      "execution_count": 24,
      "outputs": [
        {
          "output_type": "display_data",
          "data": {
            "text/plain": [
              "<Figure size 1400x500 with 2 Axes>"
            ],
            "image/png": "[encoded data removed]"
          },
          "metadata": {}
        }
      ]
    },
    {
      "cell_type": "code",
      "source": [
        "model.evaluate(X_test, y_test)"
      ],
      "metadata": {
        "colab": {
          "base_uri": "https://localhost:8080/"
        },
        "id": "c087ulFVZ25h",
        "outputId": "8a30f1da-7045-4c80-8800-ba60d8a82752"
      },
      "execution_count": 25,
      "outputs": [
        {
          "output_type": "stream",
          "name": "stdout",
          "text": [
            "4/4 [==============================] - 0s 6ms/step - loss: 8.3415e-04 - accuracy: 1.0000\n"
          ]
        },
        {
          "output_type": "execute_result",
          "data": {
            "text/plain": [
              "[0.0008341513457708061, 1.0]"
            ]
          },
          "metadata": {},
          "execution_count": 25
        }
      ]
    },
    {
      "cell_type": "code",
      "source": [
        "import pickle\n",
        "pickle.dump(model, open(\"grad.pkl\", \"wb\"))\n",
        "loaded_model = pickle.load(open(\"grad.pkl\", \"rb\"))"
      ],
      "metadata": {
        "id": "UYt9MKKHZ5go"
      },
      "execution_count": 26,
      "outputs": []
    },
    {
      "cell_type": "code",
      "source": [
        "# new_data = [[107,34,32,26.774637,66.413269,6.780064,177.774507]]\n",
        "\n",
        "new_data = [[90, 42,\t43,\t20.879744,\t82.002744,\t6.502985,\t202.935536]]"
      ],
      "metadata": {
        "id": "3LmkVUu2aLl1"
      },
      "execution_count": 27,
      "outputs": []
    },
    {
      "cell_type": "code",
      "source": [
        "predictions = loaded_model.predict(new_data)\n",
        "predictions[0]\n"
      ],
      "metadata": {
        "colab": {
          "base_uri": "https://localhost:8080/"
        },
        "id": "flGs5Tj0aMSR",
        "outputId": "07fee517-b4ea-4b14-ebc9-695f0892dea7"
      },
      "execution_count": 28,
      "outputs": [
        {
          "output_type": "stream",
          "name": "stdout",
          "text": [
            "1/1 [==============================] - 0s 119ms/step\n"
          ]
        },
        {
          "output_type": "execute_result",
          "data": {
            "text/plain": [
              "array([3.0736824e-09, 1.0854953e-03, 2.9997702e-11, 1.0726079e-06,\n",
              "       9.9891341e-01], dtype=float32)"
            ]
          },
          "metadata": {},
          "execution_count": 28
        }
      ]
    },
    {
      "cell_type": "code",
      "source": [
        "np.argmax(predictions[0])"
      ],
      "metadata": {
        "colab": {
          "base_uri": "https://localhost:8080/"
        },
        "id": "UfSaXaRnajvO",
        "outputId": "dc308100-840a-4641-c018-b6e77ef4d102"
      },
      "execution_count": 29,
      "outputs": [
        {
          "output_type": "execute_result",
          "data": {
            "text/plain": [
              "4"
            ]
          },
          "metadata": {},
          "execution_count": 29
        }
      ]
    },
    {
      "cell_type": "code",
      "source": [
        "crop_category[np.argmax(predictions[0])]"
      ],
      "metadata": {
        "colab": {
          "base_uri": "https://localhost:8080/",
          "height": 36
        },
        "id": "WYQduuKUb1M7",
        "outputId": "75a0af7a-f7a5-4560-9da1-683bd3fcda16"
      },
      "execution_count": 30,
      "outputs": [
        {
          "output_type": "execute_result",
          "data": {
            "text/plain": [
              "'rice'"
            ],
            "application/vnd.google.colaboratory.intrinsic+json": {
              "type": "string"
            }
          },
          "metadata": {},
          "execution_count": 30
        }
      ]
    },
    {
      "cell_type": "code",
      "source": [
        "# crop_category"
      ],
      "metadata": {
        "id": "cHioHcgod5XB"
      },
      "execution_count": 31,
      "outputs": []
    },
    {
      "cell_type": "code",
      "source": [
        "# saved_model_path = '/content/saved_model'\n",
        "# model.save(saved_model_path)"
      ],
      "metadata": {
        "id": "YtyttCx1eoSE"
      },
      "execution_count": 32,
      "outputs": []
    },
    {
      "cell_type": "code",
      "source": [
        "model.save('crop_pred.h5')"
      ],
      "metadata": {
        "id": "N3Nei2--j4hC"
      },
      "execution_count": 33,
      "outputs": []
    },
    {
      "cell_type": "code",
      "source": [
        "new_model = tf.keras.models.load_model('crop_pred.h5')\n",
        "new_model.summary()"
      ],
      "metadata": {
        "colab": {
          "base_uri": "https://localhost:8080/"
        },
        "id": "aG8djjmsuv6l",
        "outputId": "faa09d2f-c917-4e39-e6ec-ba218e1a119d"
      },
      "execution_count": 34,
      "outputs": [
        {
          "output_type": "stream",
          "name": "stdout",
          "text": [
            "Model: \"model\"\n",
            "_________________________________________________________________\n",
            " Layer (type)                Output Shape              Param #   \n",
            "=================================================================\n",
            " input_1 (InputLayer)        [(None, 7)]               0         \n",
            "                                                                 \n",
            " dense (Dense)               (None, 256)               2048      \n",
            "                                                                 \n",
            " dropout (Dropout)           (None, 256)               0         \n",
            "                                                                 \n",
            " dense_1 (Dense)             (None, 128)               32896     \n",
            "                                                                 \n",
            " dropout_1 (Dropout)         (None, 128)               0         \n",
            "                                                                 \n",
            " dense_2 (Dense)             (None, 64)                8256      \n",
            "                                                                 \n",
            " dense_3 (Dense)             (None, 5)                 325       \n",
            "                                                                 \n",
            "=================================================================\n",
            "Total params: 43,525\n",
            "Trainable params: 43,525\n",
            "Non-trainable params: 0\n",
            "_________________________________________________________________\n"
          ]
        }
      ]
    },
    {
      "cell_type": "code",
      "source": [],
      "metadata": {
        "id": "jInWA9bRu1gD"
      },
      "execution_count": 34,
      "outputs": []
    }
  ]
}